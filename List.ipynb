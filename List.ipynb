{
 "cells": [
  {
   "cell_type": "code",
   "execution_count": 17,
   "metadata": {},
   "outputs": [
    {
     "data": {
      "text/plain": [
       "[3, 4, 5, 6]"
      ]
     },
     "execution_count": 17,
     "metadata": {},
     "output_type": "execute_result"
    }
   ],
   "source": [
    "x = [3,4]\n",
    "y = [5,6]\n",
    "x + y #List Concatination"
   ]
  },
  {
   "cell_type": "code",
   "execution_count": 18,
   "metadata": {},
   "outputs": [
    {
     "data": {
      "text/plain": [
       "[3, 4, 3, 4, 3, 4]"
      ]
     },
     "execution_count": 18,
     "metadata": {},
     "output_type": "execute_result"
    }
   ],
   "source": [
    "x * 3 # List Multiplication"
   ]
  },
  {
   "cell_type": "code",
   "execution_count": 19,
   "metadata": {},
   "outputs": [
    {
     "data": {
      "text/plain": [
       "'c'"
      ]
     },
     "execution_count": 19,
     "metadata": {},
     "output_type": "execute_result"
    }
   ],
   "source": [
    "li = ['a','b','c','d']\n",
    "li[-2] #Indexing "
   ]
  },
  {
   "cell_type": "code",
   "execution_count": 20,
   "metadata": {},
   "outputs": [
    {
     "data": {
      "text/plain": [
       "['grapes', 'orange', 'apple']"
      ]
     },
     "execution_count": 20,
     "metadata": {},
     "output_type": "execute_result"
    }
   ],
   "source": [
    "li = ['apple','orange','grapes']\n",
    "li[::-1] #Slicing"
   ]
  },
  {
   "cell_type": "code",
   "execution_count": 21,
   "metadata": {},
   "outputs": [
    {
     "name": "stdout",
     "output_type": "stream",
     "text": [
      "['elppa', 'egnaro', 'separg']\n"
     ]
    }
   ],
   "source": [
    "# List Comprehension\n",
    "li = ['apple','orange','grapes']\n",
    "li2 = [i[::-1] for i in li]\n",
    "print(li2)"
   ]
  },
  {
   "cell_type": "code",
   "execution_count": 22,
   "metadata": {},
   "outputs": [
    {
     "name": "stdout",
     "output_type": "stream",
     "text": [
      "[100, 81, 64, 49, 36, 25, 16, 9, 4, 1, 0]\n"
     ]
    }
   ],
   "source": [
    "li = [i**2 for i in range(10,-1,-1)]\n",
    "print(li)"
   ]
  },
  {
   "cell_type": "code",
   "execution_count": 23,
   "metadata": {},
   "outputs": [
    {
     "name": "stdout",
     "output_type": "stream",
     "text": [
      "ayapap ognam egnaro elppa\n"
     ]
    }
   ],
   "source": [
    "li = ['apple','orange','mango','papaya']\n",
    "li2 = [i[::-1] for i in li[::-1]]\n",
    "print(\" \".join(li2))"
   ]
  },
  {
   "cell_type": "code",
   "execution_count": 24,
   "metadata": {},
   "outputs": [
    {
     "data": {
      "text/plain": [
       "['b', 'a', 'b', 'a']"
      ]
     },
     "execution_count": 24,
     "metadata": {},
     "output_type": "execute_result"
    }
   ],
   "source": [
    "x = ['a','b'][::-1] * 2\n",
    "x"
   ]
  },
  {
   "cell_type": "code",
   "execution_count": 25,
   "metadata": {},
   "outputs": [
    {
     "data": {
      "text/plain": [
       "[1, 2, 3, 4, 5, 6, 7, 8, 9, 10]"
      ]
     },
     "execution_count": 25,
     "metadata": {},
     "output_type": "execute_result"
    }
   ],
   "source": [
    "li = [i for i in range(1,11)]\n",
    "li"
   ]
  },
  {
   "cell_type": "code",
   "execution_count": 26,
   "metadata": {},
   "outputs": [
    {
     "name": "stdout",
     "output_type": "stream",
     "text": [
      "['a', 'c', 'b', 'd']\n"
     ]
    }
   ],
   "source": [
    "# List is Mutable\n",
    "li = ['a','b','c','d']\n",
    "li[1],li[2] = li[2],li[1]\n",
    "print(li)"
   ]
  },
  {
   "cell_type": "code",
   "execution_count": 27,
   "metadata": {},
   "outputs": [
    {
     "name": "stdout",
     "output_type": "stream",
     "text": [
      "a\n",
      "b\n",
      "c\n",
      "d\n"
     ]
    }
   ],
   "source": [
    "# List iteration\n",
    "li = ['a','b','c','d']\n",
    "for i in li:\n",
    "    print(i)"
   ]
  },
  {
   "cell_type": "code",
   "execution_count": 1,
   "metadata": {},
   "outputs": [
    {
     "name": "stdout",
     "output_type": "stream",
     "text": [
      "[2, 7, 8]\n",
      "[2, 7]\n",
      "[2]\n"
     ]
    }
   ],
   "source": [
    "# List method \n",
    "\n",
    "# append\n",
    "\n",
    "li = []\n",
    "li.append(2)\n",
    "li.append(7)\n",
    "li.append(8)\n",
    "print(li)\n",
    "\n",
    "# pop\n",
    "\n",
    "li.pop()\n",
    "print(li)\n",
    "\n",
    "# remove\n",
    "\n",
    "li.remove(7)\n",
    "print(li)\n",
    "\n"
   ]
  },
  {
   "cell_type": "code",
   "execution_count": 10,
   "metadata": {},
   "outputs": [
    {
     "data": {
      "text/plain": [
       "[1, 2, 7, 9, 5, 6, 1, 2, 3]"
      ]
     },
     "execution_count": 10,
     "metadata": {},
     "output_type": "execute_result"
    }
   ],
   "source": [
    "# Insert - It is only used for insert particular location and shift all elements\n",
    "li = [1,2,4,5,6]\n",
    "li.insert(2,7)\n",
    "li[3] = 9\n",
    "\n",
    "# extend - Extend is used for insert multipal elements in a list \n",
    "li.extend([1,2,3])\n",
    "li"
   ]
  },
  {
   "cell_type": "code",
   "execution_count": 2,
   "metadata": {},
   "outputs": [
    {
     "name": "stdout",
     "output_type": "stream",
     "text": [
      "['a', 'b', 'c']\n"
     ]
    }
   ],
   "source": [
    "# Interview Question\n",
    "li = ['a','b','c','d','e','f']\n",
    "\n",
    "for i in li:\n",
    "    li.pop()\n",
    "\n",
    "print(li)    "
   ]
  },
  {
   "cell_type": "code",
   "execution_count": null,
   "metadata": {},
   "outputs": [
    {
     "name": "stdout",
     "output_type": "stream",
     "text": [
      "2\n"
     ]
    }
   ],
   "source": [
    "# Sort\n",
    "\n",
    "li = [1,9,8,7,2]\n",
    "li.sort(reverse=True) # use sort and reverse together\n",
    "\n",
    "# Reverse \n",
    "li.reverse()\n",
    "li\n",
    "\n",
    "# clear - Clear Hole List\n",
    "# li.clear()\n",
    "# index - it is used for find the index. if index is not found return error\n",
    "\n",
    "print(li.index(7)) \n"
   ]
  },
  {
   "cell_type": "code",
   "execution_count": null,
   "metadata": {},
   "outputs": [
    {
     "name": "stdout",
     "output_type": "stream",
     "text": [
      "[1, 2, 3, 9, 5, 6]\n",
      "[1, 2, 3, 9, 5, 6]\n",
      "1625369137280\n",
      "1625369137280\n",
      "[1, 2, 5, 4, 5]\n",
      "[1, 2, 3, 4, 5]\n",
      "1625369142784\n",
      "1625369155968\n"
     ]
    }
   ],
   "source": [
    "\n",
    "# copy\n",
    "\n",
    "li = [1,2,3,4,5,6]\n",
    "li2 = li #alising shallow copy and deap copy\n",
    "li2[3] = 9 \n",
    "print(li)\n",
    "print(li2)\n",
    "print(id(li))\n",
    "print(id(li2))   #Change Hole list using this method\n",
    "\n",
    "li3 = [1,2,3,4,5]\n",
    "li4 = li3.copy()\n",
    "li3[2] = 5\n",
    "print(li3)\n",
    "print(li4)\n",
    "print(id(li3))\n",
    "print(id(li4)) # jb hum copy method ka use krte dono list m koi change nhi hota kyuki dono list ki id alag alag hoti h \n"
   ]
  },
  {
   "cell_type": "code",
   "execution_count": null,
   "metadata": {},
   "outputs": [
    {
     "data": {
      "text/plain": [
       "['a', 'c', 'd', 'e', 'b']"
      ]
     },
     "execution_count": 45,
     "metadata": {},
     "output_type": "execute_result"
    }
   ],
   "source": [
    "# Remove - Remove always remove a particular element.\n",
    "li = ['b','a','b','c','d','e','b']\n",
    "li.remove('b')\n",
    "li\n",
    "# pop - pop remove last and specific element in a list\n",
    "li.pop(1)\n",
    "li"
   ]
  },
  {
   "cell_type": "code",
   "execution_count": null,
   "metadata": {},
   "outputs": [
    {
     "name": "stdout",
     "output_type": "stream",
     "text": [
      "Item      Price Quan\n",
      "bottel     50    8\n",
      "chips      60    9\n",
      "biscuit    70    10\n"
     ]
    }
   ],
   "source": [
    "# Loop on three list\n",
    "item = [\"bottel\",\"chips\",\"biscuit\"]\n",
    "price = [50,60,70]\n",
    "quan = [8,9,10]\n",
    "\n",
    "print(f\"{\"Item\":10}{\"Price\":6}{\"Quantity\"}\")\n",
    "for i,j,k in zip(item,price,quan):\n",
    "    print(f\"{i:10} {j:<5} {k}\")"
   ]
  },
  {
   "cell_type": "code",
   "execution_count": 9,
   "metadata": {},
   "outputs": [
    {
     "name": "stdout",
     "output_type": "stream",
     "text": [
      "['separg', 'ognam', 'elppa']\n"
     ]
    }
   ],
   "source": [
    "li = [\"apple\",\"mango\",\"grapes\"]\n",
    "li2 = [i[::-1] for i in li[::-1]]\n",
    "print(li2)"
   ]
  }
 ],
 "metadata": {
  "kernelspec": {
   "display_name": "Python 3",
   "language": "python",
   "name": "python3"
  },
  "language_info": {
   "codemirror_mode": {
    "name": "ipython",
    "version": 3
   },
   "file_extension": ".py",
   "mimetype": "text/x-python",
   "name": "python",
   "nbconvert_exporter": "python",
   "pygments_lexer": "ipython3",
   "version": "3.13.0"
  }
 },
 "nbformat": 4,
 "nbformat_minor": 2
}
